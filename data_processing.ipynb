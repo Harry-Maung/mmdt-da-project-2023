{
 "cells": [
  {
   "cell_type": "code",
   "execution_count": 7,
   "metadata": {},
   "outputs": [],
   "source": [
    "import pandas as pd\n",
    "import numpy as np"
   ]
  },
  {
   "cell_type": "code",
   "execution_count": 8,
   "metadata": {},
   "outputs": [],
   "source": [
    "def normalize_1NF(table, column):\n",
    "    df = table.copy()\n",
    "    df[column]= df[column].apply(lambda s: str(s).split(',') if ',' in str(s) else str(s).split('/'))\n",
    "    lens = list(map(len,df[column].values))\n",
    "    df_1NF = pd.DataFrame({'ID': np.repeat(df['ID'], lens), \n",
    "                           column: np.concatenate(df[column].values), \n",
    "                        }) \n",
    "    df_1NF[column] = df_1NF[column].str.strip()    \n",
    "    df_1NF = df_1NF[['ID', column]]\n",
    "   \n",
    "    return df_1NF\n"
   ]
  },
  {
   "cell_type": "code",
   "execution_count": 9,
   "metadata": {},
   "outputs": [],
   "source": [
    "# scope and extract the relevant data\n",
    "df_pre = pd.read_excel(\"./data/Pre_DA.xlsx\")\n",
    "pre_Qs = list(df_pre.columns)\n",
    "\n",
    "df_post = pd.read_excel(\"./data/Post_DA.xlsx\")\n",
    "post_Qs = list(df_post.columns)\n",
    "\n",
    "# Determine the maximum length\n",
    "max_length = max(len(pre_Qs), len(post_Qs))\n",
    "\n",
    "# Pad the shorter column with NaN values\n",
    "if len(pre_Qs) < max_length:\n",
    "    pre_Qs.extend([np.nan] * (max_length - len(pre_Qs)))\n",
    "\n",
    "if len(post_Qs) < max_length:\n",
    "    post_Qs.extend([np.nan] * (max_length - len(post_Qs)))\n",
    "\n",
    "df_Qs = pd.DataFrame({'Pre': pre_Qs, 'Post': post_Qs})\n",
    "df_Qs.to_csv('.\\\\add_data\\Questions.csv', index = False)\n"
   ]
  },
  {
   "cell_type": "code",
   "execution_count": 10,
   "metadata": {},
   "outputs": [],
   "source": [
    "## Merging table for DA - Technical knowledge. \n",
    "cols1 = list(df_Qs.loc[[0,1,7,8,9,10,11,12],'Pre'])\n",
    "pre_tech = df_pre[cols1]\n",
    "pre_tech.columns = ['ID', 'DA', 'NLP', 'Cyber', \n",
    "                    'VersionControl', 'Tableau', 'Python', 'Cloud']\n",
    "\n",
    "cols2 = list(df_Qs.loc[[0,1,6,7,8,9,10,11],'Post'])\n",
    "post_tech = df_post[cols2]\n",
    "post_tech.columns = ['ID', 'DA', 'NLP', 'Cyber', \n",
    "                    'VersionControl', 'Tableau', 'Python', 'Cloud']\n",
    "\n",
    "data_techDF = pd.merge(pre_tech, post_tech, \n",
    "                  on='ID', \n",
    "                  how='outer', suffixes = ('_pre', '_post'))\n",
    "data_techDF.to_csv('.\\\\add_data\\DA_Tech.csv')"
   ]
  },
  {
   "cell_type": "code",
   "execution_count": 11,
   "metadata": {},
   "outputs": [],
   "source": [
    "# This code extracts the pre and post DA related tools that learner know\n",
    "\n",
    "cols1 = list(df_Qs.loc[[0,4],'Pre'])\n",
    "pre_tool = df_pre[cols1].copy()\n",
    "pre_tool.columns = ['ID', 'DA_tools']\n",
    "pre_1NF = normalize_1NF(pre_tool, 'DA_tools')\n",
    "pre_1NF.to_csv('.\\\\add_data\\DA_tools_Pre.csv', index = False)\n",
    "\n",
    "cols2 = list(df_Qs.loc[[0,3],'Post'])\n",
    "post_tool = df_post[cols2].copy()\n",
    "post_tool.columns = ['ID', 'DA_learnTools']\n",
    "post_1NF = normalize_1NF(post_tool, 'DA_learnTools')\n",
    "post_1NF.to_csv('.\\\\add_data\\DA_tools_Post.csv', index = False)\n",
    "\n",
    "pre_PyTab = pre_1NF[(pre_1NF['DA_tools']=='Python') | (pre_1NF['DA_tools']=='Tableau')]\n",
    "post_PyTab = post_1NF[(post_1NF['DA_learnTools']=='Python') | (post_1NF['DA_learnTools']=='Tableau')]\n",
    "\n",
    "DA_toolDF = pd.merge(pre_PyTab, post_PyTab, \n",
    "                  on='ID', \n",
    "                  how='outer')\n",
    "DA_toolDF.to_csv('.\\\\add_data\\DA_tools.csv')\n"
   ]
  },
  {
   "cell_type": "code",
   "execution_count": 12,
   "metadata": {},
   "outputs": [],
   "source": [
    "## career goals change \n",
    "cols1 = list(df_Qs.loc[[0,14],'Pre'])\n",
    "pre_goal = df_pre[cols1].copy()\n",
    "pre_goal.columns = ['ID', 'Career_goals']\n",
    "pre_1NF = normalize_1NF(pre_goal, 'Career_goals')\n",
    "pre_1NF.to_csv('.\\\\add_data\\Career_goals_Pre.csv', index = False)\n",
    "\n",
    "\n",
    "cols2 = list(df_Qs.loc[[0,13],'Post'])\n",
    "post_goal = df_post[cols2].copy()\n",
    "post_goal.columns = ['ID', 'Career_goals']\n",
    "post_1NF = normalize_1NF(post_goal, 'Career_goals')\n",
    "post_1NF.to_csv('.\\\\add_data\\Career_goals_Post.csv', index = False)\n",
    "\n",
    "DA_careerDF = pd.merge(pre_1NF, post_1NF, \n",
    "                  on='ID', \n",
    "                  how='outer', suffixes = ('_pre', '_post'))\n",
    "DA_careerDF.to_csv('.\\\\add_data\\DA_career.csv')"
   ]
  },
  {
   "cell_type": "code",
   "execution_count": 35,
   "metadata": {},
   "outputs": [],
   "source": [
    "DA_tech_summary = data_techDF.iloc[:,1:].mean().to_frame().sort_index()\n",
    "DA_tech_summary.reset_index(inplace = True)\n",
    "DA_tech_summary.rename(columns={'index': 'DA_tools', 0: 'mean_value'}, inplace = True)\n",
    "DA_tech_summary.to_csv('.\\\\add_data\\DA_tech_sum.csv', index = False)"
   ]
  }
 ],
 "metadata": {
  "kernelspec": {
   "display_name": "Python 3",
   "language": "python",
   "name": "python3"
  },
  "language_info": {
   "codemirror_mode": {
    "name": "ipython",
    "version": 3
   },
   "file_extension": ".py",
   "mimetype": "text/x-python",
   "name": "python",
   "nbconvert_exporter": "python",
   "pygments_lexer": "ipython3",
   "version": "3.10.11"
  },
  "orig_nbformat": 4
 },
 "nbformat": 4,
 "nbformat_minor": 2
}
